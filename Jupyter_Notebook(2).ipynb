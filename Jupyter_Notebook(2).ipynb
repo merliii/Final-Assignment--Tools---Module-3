{
 "cells": [
  {
   "cell_type": "markdown",
   "metadata": {},
   "source": [
    "<center>\n",
    "    <img src=\"https://cf-courses-data.s3.us.cloud-object-storage.appdomain.cloud/IBMDeveloperSkillsNetwork-DS0105EN-SkillsNetwork/labs/Module2/images/SN_web_lightmode.png\" width=\"300\" alt=\"cognitiveclass.ai logo\">\n",
    "</center>\n"
   ]
  },
  {
   "cell_type": "markdown",
   "metadata": {},
   "source": [
    "<h3>Work to be graded by peers</h3>"
   ]
  },
  {
   "cell_type": "markdown",
   "metadata": {},
   "source": [
    "<i>Introduction:<br>This is the final assignment for the course \"Tools in Data Science\".<br> Thank you for reading!</i>"
   ]
  },
  {
   "cell_type": "markdown",
   "metadata": {},
   "source": [
    "Here's a list including the most used Data Science Languages:\n",
    "\n",
    "<ul>\n",
    "    <li>Python</li>\n",
    "    <li>SQL</li>\n",
    "    <li>R</li>\n",
    "</ul>\n"
   ]
  },
  {
   "cell_type": "markdown",
   "metadata": {},
   "source": [
    "Here's a list including some of the most used Data Science libraries:\n",
    "<ul>\n",
    "    <li>Pandas</li>\n",
    "    <li>Matplotlib</li>\n",
    "    <li>Seaborn</li>\n",
    "    <li>Spark</li>\n",
    "    <li>Scikit-learn</li>  \n",
    "    <li>Keras</li>  \n",
    "</ul>"
   ]
  },
  {
   "cell_type": "markdown",
   "metadata": {},
   "source": [
    "Here's a list including some Data Science Tools:\n",
    "<ul>\n",
    "    <li>Watson Studio</li>\n",
    "    <li>KNIME</li>\n",
    "    <li>Orange</li>\n",
    "    <li>SPSS</li>\n",
    "    <li>Github</li>  \n",
    "    <li>Microsoft Azure Machine Learning</li>  \n",
    "</ul>"
   ]
  },
  {
   "cell_type": "markdown",
   "metadata": {},
   "source": [
    "<i>The four basic arithmetic operations are: addition,multiplication,division and substraction...</i>\n"
   ]
  },
  {
   "cell_type": "code",
   "execution_count": 20,
   "metadata": {},
   "outputs": [
    {
     "name": "stdout",
     "output_type": "stream",
     "text": [
      "The sum's result is: 36\n",
      "The end result is 108\n"
     ]
    }
   ],
   "source": [
    "a = (22, 14)\n",
    "x = sum(a)\n",
    "print(\"The sum's result is:\",x)\n",
    "if x > 10:\n",
    "    number = 3 * x\n",
    "print(\"The end result is\", number)"
   ]
  },
  {
   "cell_type": "code",
   "execution_count": 17,
   "metadata": {},
   "outputs": [
    {
     "name": "stdout",
     "output_type": "stream",
     "text": [
      "210 minutes is equal to 3.5 hour/s.\n"
     ]
    }
   ],
   "source": [
    "minutes = (x)\n",
    "hours = (x/60)\n",
    "x = (210)\n",
    "print(x,\"minutes is equal to\",x/60,\"hour/s.\")"
   ]
  },
  {
   "cell_type": "markdown",
   "metadata": {},
   "source": [
    "Objectives of this notebook:\n",
    "<ul>\n",
    "    <li>List some languages, libraries and tools used in data science</li>\n",
    "    <li>Write the code for basic arithmetic operations</li>\n",
    "    <li>Create a brief list of objectives</li>\n",
    "    <li>Complete all the tasks included in the excercise</li>\n",
    "    <li>Pass the course!</li>\n",
    "    "
   ]
  },
  {
   "cell_type": "markdown",
   "metadata": {},
   "source": [
    "Author's name: <br>D.H."
   ]
  }
 ],
 "metadata": {
  "kernelspec": {
   "display_name": "Python",
   "language": "python",
   "name": "conda-env-python-py"
  },
  "language_info": {
   "codemirror_mode": {
    "name": "ipython",
    "version": 3
   },
   "file_extension": ".py",
   "mimetype": "text/x-python",
   "name": "python",
   "nbconvert_exporter": "python",
   "pygments_lexer": "ipython3",
   "version": "3.7.12"
  }
 },
 "nbformat": 4,
 "nbformat_minor": 4
}
